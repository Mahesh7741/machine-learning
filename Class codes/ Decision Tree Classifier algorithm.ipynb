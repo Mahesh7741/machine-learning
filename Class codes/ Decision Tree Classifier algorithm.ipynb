{
 "cells": [
  {
   "cell_type": "markdown",
   "id": "2ed055ae-4371-464c-94ac-81a6f409d220",
   "metadata": {},
   "source": [
    "<h3>AIM :To implement a Machine Learning Classification model using a Decision Tree Classifier algorithm and enhance the model by K Fold and GridSearchCV cross-validation.</h3>"
   ]
  },
  {
   "cell_type": "markdown",
   "id": "fa88c385-7659-41a3-8b5d-705192fafbba",
   "metadata": {},
   "source": [
    "<h4>Importing the libraries</h4>"
   ]
  },
  {
   "cell_type": "code",
   "execution_count": 27,
   "id": "1437811a-0036-4cb3-9723-7a7bfe7473ff",
   "metadata": {},
   "outputs": [],
   "source": [
    "import pandas as pd\n",
    "from sklearn.model_selection import train_test_split, cross_val_score, GridSearchCV, KFold\n",
    "from sklearn.preprocessing import StandardScaler\n",
    "from sklearn.tree import DecisionTreeClassifier\n",
    "from sklearn.neighbors import KNeighborsClassifier\n",
    "from sklearn.metrics import accuracy_score, precision_score, recall_score, f1_score"
   ]
  },
  {
   "cell_type": "markdown",
   "id": "a4fecb2f-f519-4392-a951-47438da00139",
   "metadata": {},
   "source": [
    "<h4>Load the dataset</h4>"
   ]
  },
  {
   "cell_type": "code",
   "execution_count": 29,
   "id": "25b7edbb-1be5-42c5-8e62-5ef6c84192a0",
   "metadata": {},
   "outputs": [
    {
     "data": {
      "text/html": [
       "<div>\n",
       "<style scoped>\n",
       "    .dataframe tbody tr th:only-of-type {\n",
       "        vertical-align: middle;\n",
       "    }\n",
       "\n",
       "    .dataframe tbody tr th {\n",
       "        vertical-align: top;\n",
       "    }\n",
       "\n",
       "    .dataframe thead th {\n",
       "        text-align: right;\n",
       "    }\n",
       "</style>\n",
       "<table border=\"1\" class=\"dataframe\">\n",
       "  <thead>\n",
       "    <tr style=\"text-align: right;\">\n",
       "      <th></th>\n",
       "      <th>Pregnancies</th>\n",
       "      <th>Glucose</th>\n",
       "      <th>BloodPressure</th>\n",
       "      <th>SkinThickness</th>\n",
       "      <th>Insulin</th>\n",
       "      <th>BMI</th>\n",
       "      <th>DiabetesPedigreeFunction</th>\n",
       "      <th>Age</th>\n",
       "      <th>Outcome</th>\n",
       "    </tr>\n",
       "  </thead>\n",
       "  <tbody>\n",
       "    <tr>\n",
       "      <th>0</th>\n",
       "      <td>6</td>\n",
       "      <td>148</td>\n",
       "      <td>72</td>\n",
       "      <td>35</td>\n",
       "      <td>0</td>\n",
       "      <td>33.6</td>\n",
       "      <td>0.627</td>\n",
       "      <td>50</td>\n",
       "      <td>1</td>\n",
       "    </tr>\n",
       "    <tr>\n",
       "      <th>1</th>\n",
       "      <td>1</td>\n",
       "      <td>85</td>\n",
       "      <td>66</td>\n",
       "      <td>29</td>\n",
       "      <td>0</td>\n",
       "      <td>26.6</td>\n",
       "      <td>0.351</td>\n",
       "      <td>31</td>\n",
       "      <td>0</td>\n",
       "    </tr>\n",
       "    <tr>\n",
       "      <th>2</th>\n",
       "      <td>8</td>\n",
       "      <td>183</td>\n",
       "      <td>64</td>\n",
       "      <td>0</td>\n",
       "      <td>0</td>\n",
       "      <td>23.3</td>\n",
       "      <td>0.672</td>\n",
       "      <td>32</td>\n",
       "      <td>1</td>\n",
       "    </tr>\n",
       "    <tr>\n",
       "      <th>3</th>\n",
       "      <td>1</td>\n",
       "      <td>89</td>\n",
       "      <td>66</td>\n",
       "      <td>23</td>\n",
       "      <td>94</td>\n",
       "      <td>28.1</td>\n",
       "      <td>0.167</td>\n",
       "      <td>21</td>\n",
       "      <td>0</td>\n",
       "    </tr>\n",
       "    <tr>\n",
       "      <th>4</th>\n",
       "      <td>0</td>\n",
       "      <td>137</td>\n",
       "      <td>40</td>\n",
       "      <td>35</td>\n",
       "      <td>168</td>\n",
       "      <td>43.1</td>\n",
       "      <td>2.288</td>\n",
       "      <td>33</td>\n",
       "      <td>1</td>\n",
       "    </tr>\n",
       "    <tr>\n",
       "      <th>...</th>\n",
       "      <td>...</td>\n",
       "      <td>...</td>\n",
       "      <td>...</td>\n",
       "      <td>...</td>\n",
       "      <td>...</td>\n",
       "      <td>...</td>\n",
       "      <td>...</td>\n",
       "      <td>...</td>\n",
       "      <td>...</td>\n",
       "    </tr>\n",
       "    <tr>\n",
       "      <th>763</th>\n",
       "      <td>10</td>\n",
       "      <td>101</td>\n",
       "      <td>76</td>\n",
       "      <td>48</td>\n",
       "      <td>180</td>\n",
       "      <td>32.9</td>\n",
       "      <td>0.171</td>\n",
       "      <td>63</td>\n",
       "      <td>0</td>\n",
       "    </tr>\n",
       "    <tr>\n",
       "      <th>764</th>\n",
       "      <td>2</td>\n",
       "      <td>122</td>\n",
       "      <td>70</td>\n",
       "      <td>27</td>\n",
       "      <td>0</td>\n",
       "      <td>36.8</td>\n",
       "      <td>0.340</td>\n",
       "      <td>27</td>\n",
       "      <td>0</td>\n",
       "    </tr>\n",
       "    <tr>\n",
       "      <th>765</th>\n",
       "      <td>5</td>\n",
       "      <td>121</td>\n",
       "      <td>72</td>\n",
       "      <td>23</td>\n",
       "      <td>112</td>\n",
       "      <td>26.2</td>\n",
       "      <td>0.245</td>\n",
       "      <td>30</td>\n",
       "      <td>0</td>\n",
       "    </tr>\n",
       "    <tr>\n",
       "      <th>766</th>\n",
       "      <td>1</td>\n",
       "      <td>126</td>\n",
       "      <td>60</td>\n",
       "      <td>0</td>\n",
       "      <td>0</td>\n",
       "      <td>30.1</td>\n",
       "      <td>0.349</td>\n",
       "      <td>47</td>\n",
       "      <td>1</td>\n",
       "    </tr>\n",
       "    <tr>\n",
       "      <th>767</th>\n",
       "      <td>1</td>\n",
       "      <td>93</td>\n",
       "      <td>70</td>\n",
       "      <td>31</td>\n",
       "      <td>0</td>\n",
       "      <td>30.4</td>\n",
       "      <td>0.315</td>\n",
       "      <td>23</td>\n",
       "      <td>0</td>\n",
       "    </tr>\n",
       "  </tbody>\n",
       "</table>\n",
       "<p>768 rows × 9 columns</p>\n",
       "</div>"
      ],
      "text/plain": [
       "     Pregnancies  Glucose  BloodPressure  SkinThickness  Insulin   BMI  \\\n",
       "0              6      148             72             35        0  33.6   \n",
       "1              1       85             66             29        0  26.6   \n",
       "2              8      183             64              0        0  23.3   \n",
       "3              1       89             66             23       94  28.1   \n",
       "4              0      137             40             35      168  43.1   \n",
       "..           ...      ...            ...            ...      ...   ...   \n",
       "763           10      101             76             48      180  32.9   \n",
       "764            2      122             70             27        0  36.8   \n",
       "765            5      121             72             23      112  26.2   \n",
       "766            1      126             60              0        0  30.1   \n",
       "767            1       93             70             31        0  30.4   \n",
       "\n",
       "     DiabetesPedigreeFunction  Age  Outcome  \n",
       "0                       0.627   50        1  \n",
       "1                       0.351   31        0  \n",
       "2                       0.672   32        1  \n",
       "3                       0.167   21        0  \n",
       "4                       2.288   33        1  \n",
       "..                        ...  ...      ...  \n",
       "763                     0.171   63        0  \n",
       "764                     0.340   27        0  \n",
       "765                     0.245   30        0  \n",
       "766                     0.349   47        1  \n",
       "767                     0.315   23        0  \n",
       "\n",
       "[768 rows x 9 columns]"
      ]
     },
     "execution_count": 29,
     "metadata": {},
     "output_type": "execute_result"
    }
   ],
   "source": [
    "file_path = './CSV files/Diabetes.csv'\n",
    "data = pd.read_csv(file_path)\n",
    "data"
   ]
  },
  {
   "cell_type": "markdown",
   "id": "486af9eb-2617-4e62-a771-4ad7122810fb",
   "metadata": {},
   "source": [
    "<h4>Split the data into features (X) and target variable (y)</h4>"
   ]
  },
  {
   "cell_type": "code",
   "execution_count": 30,
   "id": "c8f530c9-251e-4405-8f39-962a631ec3cf",
   "metadata": {},
   "outputs": [],
   "source": [
    "X = data.drop('Outcome', axis=1)\n",
    "y = data['Outcome']"
   ]
  },
  {
   "cell_type": "markdown",
   "id": "df541af0-dd92-4343-80d3-beb526eec94a",
   "metadata": {},
   "source": [
    "<h4>Standardize the features</h4>"
   ]
  },
  {
   "cell_type": "code",
   "execution_count": 31,
   "id": "a89bfc0c-4ba2-421f-b609-7717e7c53348",
   "metadata": {},
   "outputs": [],
   "source": [
    "scaler = StandardScaler()\n",
    "X_scaled = scaler.fit_transform(X)"
   ]
  },
  {
   "cell_type": "markdown",
   "id": "2f5b1943-058c-4775-a80c-544a71e9243e",
   "metadata": {},
   "source": [
    "<h4>Split the data into training and testing sets<</h4>"
   ]
  },
  {
   "cell_type": "code",
   "execution_count": 32,
   "id": "3a4806e2-701f-4a2f-8f10-74ce417083bc",
   "metadata": {},
   "outputs": [],
   "source": [
    "X_train, X_test, y_train, y_test = train_test_split(X_scaled, y, test_size=0.2, random_state=42)"
   ]
  },
  {
   "cell_type": "markdown",
   "id": "b98df7c6-e192-4408-9bc5-af1b1f57df8c",
   "metadata": {},
   "source": [
    "<h4>Implement Decision Tree Classifier with GridSearchCV</h4>"
   ]
  },
  {
   "cell_type": "code",
   "execution_count": 34,
   "id": "374867f8-06a5-489d-8fb5-20f969ef73b4",
   "metadata": {},
   "outputs": [],
   "source": [
    "dt_classifier = DecisionTreeClassifier()\n",
    "param_grid_dt = {\n",
    "    'max_depth': [3, 5, 7, 10],\n",
    "    'min_samples_split': [2, 5, 10],\n",
    "    'min_samples_leaf': [1, 2, 4]\n",
    "}\n",
    "grid_search_dt = GridSearchCV(estimator=dt_classifier, param_grid=param_grid_dt, cv=5)\n",
    "grid_search_dt.fit(X_train, y_train)\n",
    "best_dt_classifier = grid_search_dt.best_estimator_"
   ]
  },
  {
   "cell_type": "markdown",
   "id": "4ce935d2-0ee2-4d6b-9e3f-350077dc9f7f",
   "metadata": {},
   "source": [
    "<h4>Perform K-Fold cross-validation for K Nearest Neighbors Classifier</h4>"
   ]
  },
  {
   "cell_type": "code",
   "execution_count": 36,
   "id": "45cc210d-017e-4b69-8854-ed805b58516c",
   "metadata": {},
   "outputs": [],
   "source": [
    "knn_classifier = KNeighborsClassifier()\n",
    "kfold = KFold(n_splits=5, shuffle=True, random_state=42)\n",
    "cv_results_knn = cross_val_score(knn_classifier, X_scaled, y, cv=kfold)"
   ]
  },
  {
   "cell_type": "code",
   "execution_count": 37,
   "id": "aec23f76-963f-4013-a203-f9f47dc93b4d",
   "metadata": {},
   "outputs": [
    {
     "name": "stdout",
     "output_type": "stream",
     "text": [
      "Mean Cross-validation Accuracy for KNN Classifier: 0.7200831847890672\n"
     ]
    }
   ],
   "source": [
    "print(\"Mean Cross-validation Accuracy for KNN Classifier:\", cv_results_knn.mean())"
   ]
  },
  {
   "cell_type": "markdown",
   "id": "0ac492b5-a871-4628-bcdb-2073cc07927f",
   "metadata": {},
   "source": [
    "<h4> Predictions using K Nearest Neighbors Classifier</h4>"
   ]
  },
  {
   "cell_type": "code",
   "execution_count": 38,
   "id": "91aedcf4-b48e-4373-9b63-47c8b51321c5",
   "metadata": {},
   "outputs": [],
   "source": [
    "knn_classifier.fit(X_train, y_train)\n",
    "y_pred_knn = knn_classifier.predict(X_test)"
   ]
  },
  {
   "cell_type": "markdown",
   "id": "b64bb98d-6de7-4179-9c30-f07f6a7ddb40",
   "metadata": {},
   "source": [
    "<h4>Calculate metrics for K Nearest Neighbors Classifier</h4>"
   ]
  },
  {
   "cell_type": "code",
   "execution_count": 40,
   "id": "45341982-9f4e-4dc2-903b-c751a4ec7d01",
   "metadata": {},
   "outputs": [
    {
     "name": "stdout",
     "output_type": "stream",
     "text": [
      "\n",
      "K Nearest Neighbors Classifier Metrics:\n",
      "Accuracy: 0.6883116883116883\n",
      "Precision: 0.574468085106383\n",
      "Recall: 0.4909090909090909\n",
      "F1-score: 0.5294117647058822\n"
     ]
    }
   ],
   "source": [
    "accuracy_knn = accuracy_score(y_test, y_pred_knn)\n",
    "precision_knn = precision_score(y_test, y_pred_knn)\n",
    "recall_knn = recall_score(y_test, y_pred_knn)\n",
    "f1_knn = f1_score(y_test, y_pred_knn)\n",
    "print(\"\\nK Nearest Neighbors Classifier Metrics:\")\n",
    "print(\"Accuracy:\", accuracy_knn)\n",
    "print(\"Precision:\", precision_knn)\n",
    "print(\"Recall:\", recall_knn)\n",
    "print(\"F1-score:\", f1_knn)"
   ]
  }
 ],
 "metadata": {
  "kernelspec": {
   "display_name": "Python 3 (ipykernel)",
   "language": "python",
   "name": "python3"
  },
  "language_info": {
   "codemirror_mode": {
    "name": "ipython",
    "version": 3
   },
   "file_extension": ".py",
   "mimetype": "text/x-python",
   "name": "python",
   "nbconvert_exporter": "python",
   "pygments_lexer": "ipython3",
   "version": "3.11.4"
  }
 },
 "nbformat": 4,
 "nbformat_minor": 5
}
