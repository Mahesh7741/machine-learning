{
 "cells": [
  {
   "cell_type": "markdown",
   "id": "f5ce02c2-e5ab-4e51-ae3b-9038f82e70d5",
   "metadata": {},
   "source": [
    "<h3>To implement a Machine Learning Classification model using a K Nearest Neighbors Classifier algorithm and enhance the model by K Fold and GridSearchCV cross-validation.</h3>"
   ]
  },
  {
   "cell_type": "markdown",
   "id": "e307a2df-873f-47f6-a8b3-1cf268948d8e",
   "metadata": {},
   "source": [
    "<h4>Import Lab</h4>"
   ]
  },
  {
   "cell_type": "code",
   "execution_count": 3,
   "id": "dff5d540-aa5b-485d-a1d9-d28305cd43f5",
   "metadata": {},
   "outputs": [],
   "source": [
    "import pandas as pd\n",
    "from sklearn.model_selection import train_test_split, KFold, GridSearchCV\n",
    "from sklearn.neighbors import KNeighborsClassifier\n",
    "from sklearn.metrics import accuracy_score, precision_score, recall_score, f1_score\n",
    "from sklearn.preprocessing import StandardScaler"
   ]
  },
  {
   "cell_type": "markdown",
   "id": "a2825576-4e27-4a9c-a127-66a91d8e21a3",
   "metadata": {},
   "source": [
    "<h3>Data Preprocessing</h3>"
   ]
  },
  {
   "cell_type": "code",
   "execution_count": 4,
   "id": "be985be0-09ab-48d5-8472-7fa985105551",
   "metadata": {},
   "outputs": [],
   "source": [
    "df = pd.read_csv('./CSV files/diabetes.csv')"
   ]
  },
  {
   "cell_type": "markdown",
   "id": "40424d6c-37f9-416a-b54d-832b0511d3fd",
   "metadata": {},
   "source": [
    "<h3>Print Data</h3>"
   ]
  },
  {
   "cell_type": "code",
   "execution_count": 5,
   "id": "e67c5125-100c-4c76-9948-0f90609653d4",
   "metadata": {},
   "outputs": [
    {
     "data": {
      "text/html": [
       "<div>\n",
       "<style scoped>\n",
       "    .dataframe tbody tr th:only-of-type {\n",
       "        vertical-align: middle;\n",
       "    }\n",
       "\n",
       "    .dataframe tbody tr th {\n",
       "        vertical-align: top;\n",
       "    }\n",
       "\n",
       "    .dataframe thead th {\n",
       "        text-align: right;\n",
       "    }\n",
       "</style>\n",
       "<table border=\"1\" class=\"dataframe\">\n",
       "  <thead>\n",
       "    <tr style=\"text-align: right;\">\n",
       "      <th></th>\n",
       "      <th>Pregnancies</th>\n",
       "      <th>Glucose</th>\n",
       "      <th>BloodPressure</th>\n",
       "      <th>SkinThickness</th>\n",
       "      <th>Insulin</th>\n",
       "      <th>BMI</th>\n",
       "      <th>DiabetesPedigreeFunction</th>\n",
       "      <th>Age</th>\n",
       "      <th>Outcome</th>\n",
       "    </tr>\n",
       "  </thead>\n",
       "  <tbody>\n",
       "    <tr>\n",
       "      <th>0</th>\n",
       "      <td>6</td>\n",
       "      <td>148</td>\n",
       "      <td>72</td>\n",
       "      <td>35</td>\n",
       "      <td>0</td>\n",
       "      <td>33.6</td>\n",
       "      <td>0.627</td>\n",
       "      <td>50</td>\n",
       "      <td>1</td>\n",
       "    </tr>\n",
       "    <tr>\n",
       "      <th>1</th>\n",
       "      <td>1</td>\n",
       "      <td>85</td>\n",
       "      <td>66</td>\n",
       "      <td>29</td>\n",
       "      <td>0</td>\n",
       "      <td>26.6</td>\n",
       "      <td>0.351</td>\n",
       "      <td>31</td>\n",
       "      <td>0</td>\n",
       "    </tr>\n",
       "    <tr>\n",
       "      <th>2</th>\n",
       "      <td>8</td>\n",
       "      <td>183</td>\n",
       "      <td>64</td>\n",
       "      <td>0</td>\n",
       "      <td>0</td>\n",
       "      <td>23.3</td>\n",
       "      <td>0.672</td>\n",
       "      <td>32</td>\n",
       "      <td>1</td>\n",
       "    </tr>\n",
       "    <tr>\n",
       "      <th>3</th>\n",
       "      <td>1</td>\n",
       "      <td>89</td>\n",
       "      <td>66</td>\n",
       "      <td>23</td>\n",
       "      <td>94</td>\n",
       "      <td>28.1</td>\n",
       "      <td>0.167</td>\n",
       "      <td>21</td>\n",
       "      <td>0</td>\n",
       "    </tr>\n",
       "    <tr>\n",
       "      <th>4</th>\n",
       "      <td>0</td>\n",
       "      <td>137</td>\n",
       "      <td>40</td>\n",
       "      <td>35</td>\n",
       "      <td>168</td>\n",
       "      <td>43.1</td>\n",
       "      <td>2.288</td>\n",
       "      <td>33</td>\n",
       "      <td>1</td>\n",
       "    </tr>\n",
       "  </tbody>\n",
       "</table>\n",
       "</div>"
      ],
      "text/plain": [
       "   Pregnancies  Glucose  BloodPressure  SkinThickness  Insulin   BMI  \\\n",
       "0            6      148             72             35        0  33.6   \n",
       "1            1       85             66             29        0  26.6   \n",
       "2            8      183             64              0        0  23.3   \n",
       "3            1       89             66             23       94  28.1   \n",
       "4            0      137             40             35      168  43.1   \n",
       "\n",
       "   DiabetesPedigreeFunction  Age  Outcome  \n",
       "0                     0.627   50        1  \n",
       "1                     0.351   31        0  \n",
       "2                     0.672   32        1  \n",
       "3                     0.167   21        0  \n",
       "4                     2.288   33        1  "
      ]
     },
     "execution_count": 5,
     "metadata": {},
     "output_type": "execute_result"
    }
   ],
   "source": [
    "df.head()"
   ]
  },
  {
   "cell_type": "markdown",
   "id": "3d4a34e3-025d-469d-872e-7321692df1cd",
   "metadata": {},
   "source": [
    "<h3>Implementing the K Nearest Neighbors Classifier</h3>"
   ]
  },
  {
   "cell_type": "code",
   "execution_count": 6,
   "id": "d965c32e-2193-4796-86cf-aa311670dde2",
   "metadata": {},
   "outputs": [],
   "source": [
    "X = df.drop('Outcome', axis=1)\n",
    "y = df['Outcome']\n",
    "X_train, X_test, y_train, y_test = train_test_split(X, y, test_size=0.2, random_state=42)\n",
    "scaler = StandardScaler()\n",
    "X_train_scaled = scaler.fit_transform(X_train)\n",
    "X_test_scaled = scaler.transform(X_test)"
   ]
  },
  {
   "cell_type": "markdown",
   "id": "77a2028a-db2a-468e-9f35-e094d4ee1b5a",
   "metadata": {},
   "source": [
    "<h3>Hyperparameter Tuning with GridSearchCV</h3>"
   ]
  },
  {
   "cell_type": "code",
   "execution_count": 15,
   "id": "f975cc4f-bcdb-4764-bf76-a2638a39beae",
   "metadata": {},
   "outputs": [],
   "source": [
    "param_grid = {'n_neighbors': [3, 5, 7, 9]} \n",
    "knn = KNeighborsClassifier()\n",
    "grid_search = GridSearchCV(knn, param_grid, cv=5, scoring='accuracy')\n",
    "grid_search.fit(X_train_scaled, y_train)\n",
    "best_params = grid_search.best_params_"
   ]
  },
  {
   "cell_type": "markdown",
   "id": "d201b0b7-30fc-42b3-9877-e072a24a3ebd",
   "metadata": {},
   "source": [
    "<h3>Cross-Validation with K Fold</h3>"
   ]
  },
  {
   "cell_type": "code",
   "execution_count": 16,
   "id": "d46a917a-402f-4e2b-bb2c-6b50caffaaf4",
   "metadata": {},
   "outputs": [],
   "source": [
    "k_fold = KFold(n_splits=5)\n",
    "accuracies = []\n",
    "precisions = []\n",
    "recalls = []\n",
    "f1_scores = []\n",
    "for train_idx, val_idx in k_fold.split(X_train_scaled):\n",
    "    X_train_fold, X_val_fold = X_train_scaled[train_idx], X_train_scaled[val_idx]\n",
    "    y_train_fold, y_val_fold = y_train.iloc[train_idx], y_train.iloc[val_idx]\n",
    "    knn = KNeighborsClassifier(n_neighbors=best_params['n_neighbors'])\n",
    "    knn.fit(X_train_fold, y_train_fold)\n",
    "    y_pred_fold = knn.predict(X_val_fold)\n",
    "    accuracies.append(accuracy_score(y_val_fold, y_pred_fold))\n",
    "    precisions.append(precision_score(y_val_fold, y_pred_fold))\n",
    "    recalls.append(recall_score(y_val_fold, y_pred_fold))\n",
    "    f1_scores.append(f1_score(y_val_fold, y_pred_fold))"
   ]
  },
  {
   "cell_type": "markdown",
   "id": "bba81eb0-3011-4799-94d9-f3eee644429f",
   "metadata": {},
   "source": [
    "<h3>Evaluating Model Performance</h3>"
   ]
  },
  {
   "cell_type": "code",
   "execution_count": 17,
   "id": "880a1f65-995d-47cf-b099-b1fee1f7bf09",
   "metadata": {},
   "outputs": [
    {
     "name": "stdout",
     "output_type": "stream",
     "text": [
      "Average Accuracy: 0.744368919099027\n",
      "Average Precision: 0.6498736947900305\n",
      "Average Recall: 0.5673835537665325\n",
      "Average F1 Score: 0.6012838002178441\n"
     ]
    }
   ],
   "source": [
    "print(\"Average Accuracy:\", sum(accuracies) / len(accuracies))\n",
    "print(\"Average Precision:\", sum(precisions) / len(precisions))\n",
    "print(\"Average Recall:\", sum(recalls) / len(recalls))\n",
    "print(\"Average F1 Score:\", sum(f1_scores) / len(f1_scores))"
   ]
  }
 ],
 "metadata": {
  "kernelspec": {
   "display_name": "Python 3 (ipykernel)",
   "language": "python",
   "name": "python3"
  },
  "language_info": {
   "codemirror_mode": {
    "name": "ipython",
    "version": 3
   },
   "file_extension": ".py",
   "mimetype": "text/x-python",
   "name": "python",
   "nbconvert_exporter": "python",
   "pygments_lexer": "ipython3",
   "version": "3.11.4"
  }
 },
 "nbformat": 4,
 "nbformat_minor": 5
}
