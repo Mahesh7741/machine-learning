{
 "cells": [
  {
   "cell_type": "markdown",
   "id": "5d9d2ee7-f80f-4a4b-810a-56532a5fedf4",
   "metadata": {},
   "source": [
    "<h1>Assignment No 1</h1>"
   ]
  },
  {
   "cell_type": "markdown",
   "id": "636c1e3a-220c-4075-8cdf-fb00f26e5fb0",
   "metadata": {},
   "source": [
    "<h4>Aim : Extract the data from database using python and demonstrate various data pre-processing techniques for a given dataset.</h4>"
   ]
  },
  {
   "cell_type": "markdown",
   "id": "0acd22ad-b579-401b-9c06-5de2df7f4614",
   "metadata": {},
   "source": [
    "<h3>import and export data using Pandas library </h3>"
   ]
  },
  {
   "cell_type": "code",
   "execution_count": 2,
   "id": "3b6ed400-b96d-4cac-9608-c0250f1209df",
   "metadata": {},
   "outputs": [],
   "source": [
    "import numpy as np\n",
    "import pandas as pd"
   ]
  },
  {
   "cell_type": "markdown",
   "id": "47e328a7-4981-410f-8555-89d23a96f819",
   "metadata": {},
   "source": [
    "<H3>CSV file location</H3>"
   ]
  },
  {
   "cell_type": "code",
   "execution_count": 3,
   "id": "b5acba53-a7d2-45fe-b392-d0ab02aef893",
   "metadata": {},
   "outputs": [],
   "source": [
    "file_path = './CSV files/goldstock.csv'\n",
    "df = pd.read_csv(file_path)"
   ]
  },
  {
   "cell_type": "markdown",
   "id": "07d7a571-2cff-40e0-83ca-39add7aa672c",
   "metadata": {},
   "source": [
    "<H3>Display the original data</H3>"
   ]
  },
  {
   "cell_type": "code",
   "execution_count": 4,
   "id": "cc12b274-5b03-4011-8c9b-f408ced623fd",
   "metadata": {},
   "outputs": [
    {
     "name": "stdout",
     "output_type": "stream",
     "text": [
      "Original Data:\n",
      "      Unnamed: 0        Date   Close    Volume    Open    High     Low\n",
      "0              0  2024-01-19  2029.3  166078.0  2027.4  2041.9  2022.2\n",
      "1              1  2024-01-18  2021.6  167013.0  2009.1  2025.6  2007.7\n",
      "2              2  2024-01-17  2006.5  245194.0  2031.7  2036.1  2004.6\n",
      "3              3  2024-01-16  2030.2  277995.0  2053.4  2062.8  2027.6\n",
      "4              4  2024-01-12  2051.6  250946.0  2033.2  2067.3  2033.1\n",
      "...          ...         ...     ...       ...     ...     ...     ...\n",
      "2506        2528  2014-01-28  1250.5   81426.0  1254.9  1261.9  1248.0\n",
      "2507        2529  2014-01-27  1263.5   63419.0  1269.9  1280.1  1252.0\n",
      "2508        2530  2014-01-24  1264.5   34998.0  1264.3  1273.2  1256.9\n",
      "2509        2531  2014-01-23  1262.5   41697.0  1235.1  1267.1  1230.8\n",
      "2510        2532  2014-01-22  1238.6   80262.0  1240.5  1243.5  1235.5\n",
      "\n",
      "[2511 rows x 7 columns]\n"
     ]
    }
   ],
   "source": [
    "print(\"Original Data:\")\n",
    "print(df)"
   ]
  },
  {
   "cell_type": "markdown",
   "id": "1a25ac90-dd11-4128-b641-e717f19d12f3",
   "metadata": {},
   "source": [
    "<h3>Check for missing values by using isnull function </h3>"
   ]
  },
  {
   "cell_type": "code",
   "execution_count": 5,
   "id": "cc70b0ee-b559-4960-951e-1eae3c712ffd",
   "metadata": {},
   "outputs": [
    {
     "name": "stdout",
     "output_type": "stream",
     "text": [
      "\n",
      "Check for missing values:\n",
      "      Unnamed: 0   Date  Close  Volume   Open   High    Low\n",
      "0          False  False  False   False  False  False  False\n",
      "1          False  False  False   False  False  False  False\n",
      "2          False  False  False   False  False  False  False\n",
      "3          False  False  False   False  False  False  False\n",
      "4          False  False  False   False  False  False  False\n",
      "...          ...    ...    ...     ...    ...    ...    ...\n",
      "2506       False  False  False   False  False  False  False\n",
      "2507       False  False  False   False  False  False  False\n",
      "2508       False  False  False   False  False  False  False\n",
      "2509       False  False  False   False  False  False  False\n",
      "2510       False  False  False   False  False  False  False\n",
      "\n",
      "[2511 rows x 7 columns]\n"
     ]
    }
   ],
   "source": [
    "print(\"\\nCheck for missing values:\")\n",
    "print(df.isnull())"
   ]
  },
  {
   "cell_type": "markdown",
   "id": "2fa57d63-19d8-4488-b912-c8d419a252f2",
   "metadata": {},
   "source": [
    "<h3>Check for non-missing values</h3>"
   ]
  },
  {
   "cell_type": "code",
   "execution_count": 6,
   "id": "81242a8a-188f-4cf6-adb5-da24d8cc38f7",
   "metadata": {},
   "outputs": [
    {
     "name": "stdout",
     "output_type": "stream",
     "text": [
      "\n",
      "Check for non-missing values:\n",
      "      Unnamed: 0  Date  Close  Volume  Open  High   Low\n",
      "0           True  True   True    True  True  True  True\n",
      "1           True  True   True    True  True  True  True\n",
      "2           True  True   True    True  True  True  True\n",
      "3           True  True   True    True  True  True  True\n",
      "4           True  True   True    True  True  True  True\n",
      "...          ...   ...    ...     ...   ...   ...   ...\n",
      "2506        True  True   True    True  True  True  True\n",
      "2507        True  True   True    True  True  True  True\n",
      "2508        True  True   True    True  True  True  True\n",
      "2509        True  True   True    True  True  True  True\n",
      "2510        True  True   True    True  True  True  True\n",
      "\n",
      "[2511 rows x 7 columns]\n"
     ]
    }
   ],
   "source": [
    "print(\"\\nCheck for non-missing values:\")\n",
    "print(df.notnull())"
   ]
  },
  {
   "cell_type": "markdown",
   "id": "03c4d14f-b34e-4036-84c4-fbc9381f980b",
   "metadata": {},
   "source": [
    "<h3> Drop rows with missing values</h3>"
   ]
  },
  {
   "cell_type": "code",
   "execution_count": 7,
   "id": "4b920633-dec8-4f37-9304-c8d8a9e6efff",
   "metadata": {},
   "outputs": [
    {
     "name": "stdout",
     "output_type": "stream",
     "text": [
      "\n",
      "Data after dropping rows with missing values:\n",
      "      Unnamed: 0        Date   Close    Volume    Open    High     Low\n",
      "0              0  2024-01-19  2029.3  166078.0  2027.4  2041.9  2022.2\n",
      "1              1  2024-01-18  2021.6  167013.0  2009.1  2025.6  2007.7\n",
      "2              2  2024-01-17  2006.5  245194.0  2031.7  2036.1  2004.6\n",
      "3              3  2024-01-16  2030.2  277995.0  2053.4  2062.8  2027.6\n",
      "4              4  2024-01-12  2051.6  250946.0  2033.2  2067.3  2033.1\n",
      "...          ...         ...     ...       ...     ...     ...     ...\n",
      "2506        2528  2014-01-28  1250.5   81426.0  1254.9  1261.9  1248.0\n",
      "2507        2529  2014-01-27  1263.5   63419.0  1269.9  1280.1  1252.0\n",
      "2508        2530  2014-01-24  1264.5   34998.0  1264.3  1273.2  1256.9\n",
      "2509        2531  2014-01-23  1262.5   41697.0  1235.1  1267.1  1230.8\n",
      "2510        2532  2014-01-22  1238.6   80262.0  1240.5  1243.5  1235.5\n",
      "\n",
      "[2511 rows x 7 columns]\n"
     ]
    }
   ],
   "source": [
    "df_dropna = df.dropna()\n",
    "print(\"\\nData after dropping rows with missing values:\")\n",
    "print(df_dropna)"
   ]
  },
  {
   "cell_type": "markdown",
   "id": "fc4ab785-c9c6-42ce-870f-92c24b5728fd",
   "metadata": {},
   "source": [
    "<h3> Fill missing values with a specified value\n",
    "</h3>"
   ]
  },
  {
   "cell_type": "code",
   "execution_count": 8,
   "id": "aae54e51-3dee-423d-89b8-0fa45c1d3314",
   "metadata": {},
   "outputs": [
    {
     "name": "stdout",
     "output_type": "stream",
     "text": [
      "\n",
      "Data after filling missing values with 0:\n",
      "      Unnamed: 0        Date   Close    Volume    Open    High     Low\n",
      "0              0  2024-01-19  2029.3  166078.0  2027.4  2041.9  2022.2\n",
      "1              1  2024-01-18  2021.6  167013.0  2009.1  2025.6  2007.7\n",
      "2              2  2024-01-17  2006.5  245194.0  2031.7  2036.1  2004.6\n",
      "3              3  2024-01-16  2030.2  277995.0  2053.4  2062.8  2027.6\n",
      "4              4  2024-01-12  2051.6  250946.0  2033.2  2067.3  2033.1\n",
      "...          ...         ...     ...       ...     ...     ...     ...\n",
      "2506        2528  2014-01-28  1250.5   81426.0  1254.9  1261.9  1248.0\n",
      "2507        2529  2014-01-27  1263.5   63419.0  1269.9  1280.1  1252.0\n",
      "2508        2530  2014-01-24  1264.5   34998.0  1264.3  1273.2  1256.9\n",
      "2509        2531  2014-01-23  1262.5   41697.0  1235.1  1267.1  1230.8\n",
      "2510        2532  2014-01-22  1238.6   80262.0  1240.5  1243.5  1235.5\n",
      "\n",
      "[2511 rows x 7 columns]\n"
     ]
    }
   ],
   "source": [
    "df_fillna = df.fillna(0)\n",
    "print(\"\\nData after filling missing values with 0:\")\n",
    "print(df_fillna)"
   ]
  },
  {
   "cell_type": "markdown",
   "id": "a87c8316-efc6-48e0-9359-82d1331c4c2f",
   "metadata": {},
   "source": [
    "<h3>Replace missing values with the mean of the column</h3>"
   ]
  },
  {
   "cell_type": "code",
   "execution_count": 9,
   "id": "4bcdbf8a-6479-4a25-a546-6e0d26e8189b",
   "metadata": {},
   "outputs": [
    {
     "name": "stdout",
     "output_type": "stream",
     "text": [
      "\n",
      "Data after filling missing values with column mean:\n",
      "      Unnamed: 0        Date   Close    Volume    Open    High     Low\n",
      "0              0  2024-01-19  2029.3  166078.0  2027.4  2041.9  2022.2\n",
      "1              1  2024-01-18  2021.6  167013.0  2009.1  2025.6  2007.7\n",
      "2              2  2024-01-17  2006.5  245194.0  2031.7  2036.1  2004.6\n",
      "3              3  2024-01-16  2030.2  277995.0  2053.4  2062.8  2027.6\n",
      "4              4  2024-01-12  2051.6  250946.0  2033.2  2067.3  2033.1\n",
      "...          ...         ...     ...       ...     ...     ...     ...\n",
      "2506        2528  2014-01-28  1250.5   81426.0  1254.9  1261.9  1248.0\n",
      "2507        2529  2014-01-27  1263.5   63419.0  1269.9  1280.1  1252.0\n",
      "2508        2530  2014-01-24  1264.5   34998.0  1264.3  1273.2  1256.9\n",
      "2509        2531  2014-01-23  1262.5   41697.0  1235.1  1267.1  1230.8\n",
      "2510        2532  2014-01-22  1238.6   80262.0  1240.5  1243.5  1235.5\n",
      "\n",
      "[2511 rows x 7 columns]\n"
     ]
    }
   ],
   "source": [
    "df_fillna_mean = df.fillna(df.mean(numeric_only=True))\n",
    "print(\"\\nData after filling missing values with column mean:\")\n",
    "print(df_fillna_mean)\n"
   ]
  },
  {
   "cell_type": "markdown",
   "id": "be96e050-5c4f-496b-8830-ef276214ff54",
   "metadata": {},
   "source": [
    "<h3>Interpolate missing values</h3>"
   ]
  },
  {
   "cell_type": "code",
   "execution_count": 10,
   "id": "c9de6592-6c91-4e3d-80ea-cdd46b15e324",
   "metadata": {},
   "outputs": [
    {
     "name": "stdout",
     "output_type": "stream",
     "text": [
      "\n",
      "Data after interpolating missing values:\n",
      "      Unnamed: 0        Date   Close    Volume    Open    High     Low\n",
      "0              0  2024-01-19  2029.3  166078.0  2027.4  2041.9  2022.2\n",
      "1              1  2024-01-18  2021.6  167013.0  2009.1  2025.6  2007.7\n",
      "2              2  2024-01-17  2006.5  245194.0  2031.7  2036.1  2004.6\n",
      "3              3  2024-01-16  2030.2  277995.0  2053.4  2062.8  2027.6\n",
      "4              4  2024-01-12  2051.6  250946.0  2033.2  2067.3  2033.1\n",
      "...          ...         ...     ...       ...     ...     ...     ...\n",
      "2506        2528  2014-01-28  1250.5   81426.0  1254.9  1261.9  1248.0\n",
      "2507        2529  2014-01-27  1263.5   63419.0  1269.9  1280.1  1252.0\n",
      "2508        2530  2014-01-24  1264.5   34998.0  1264.3  1273.2  1256.9\n",
      "2509        2531  2014-01-23  1262.5   41697.0  1235.1  1267.1  1230.8\n",
      "2510        2532  2014-01-22  1238.6   80262.0  1240.5  1243.5  1235.5\n",
      "\n",
      "[2511 rows x 7 columns]\n"
     ]
    },
    {
     "name": "stderr",
     "output_type": "stream",
     "text": [
      "C:\\Users\\MAHESH\\AppData\\Local\\Temp\\ipykernel_3636\\2563756724.py:1: FutureWarning: DataFrame.interpolate with object dtype is deprecated and will raise in a future version. Call obj.infer_objects(copy=False) before interpolating instead.\n",
      "  df_interpolate = df.infer_objects(copy=False).interpolate()\n"
     ]
    }
   ],
   "source": [
    "df_interpolate = df.infer_objects(copy=False).interpolate()\n",
    "print(\"\\nData after interpolating missing values:\")\n",
    "print(df_interpolate)"
   ]
  },
  {
   "cell_type": "markdown",
   "id": "c581ea97-220b-4f57-ae21-b90d234df8fb",
   "metadata": {},
   "source": [
    "<h3>Creating bool series True for NaN values</h3>"
   ]
  },
  {
   "cell_type": "code",
   "execution_count": 11,
   "id": "914d653e-4ea9-445f-9e10-8455a1a215c0",
   "metadata": {},
   "outputs": [
    {
     "name": "stdout",
     "output_type": "stream",
     "text": [
      "\n",
      "Bool series True for NaN values:\n",
      "      Unnamed: 0   Date  Close  Volume   Open   High    Low\n",
      "0          False  False  False   False  False  False  False\n",
      "1          False  False  False   False  False  False  False\n",
      "2          False  False  False   False  False  False  False\n",
      "3          False  False  False   False  False  False  False\n",
      "4          False  False  False   False  False  False  False\n",
      "...          ...    ...    ...     ...    ...    ...    ...\n",
      "2506       False  False  False   False  False  False  False\n",
      "2507       False  False  False   False  False  False  False\n",
      "2508       False  False  False   False  False  False  False\n",
      "2509       False  False  False   False  False  False  False\n",
      "2510       False  False  False   False  False  False  False\n",
      "\n",
      "[2511 rows x 7 columns]\n"
     ]
    }
   ],
   "source": [
    "bool_series = pd.isnull(df)\n",
    "print(\"\\nBool series True for NaN values:\")\n",
    "print(bool_series)"
   ]
  },
  {
   "cell_type": "markdown",
   "id": "10e7834f-cce7-4e0c-9ff3-be2f0bb1b158",
   "metadata": {},
   "source": [
    "<h3>Filtering data based on conditions</h3>"
   ]
  },
  {
   "cell_type": "markdown",
   "id": "1efbd7df-7884-4897-9861-f00c67aed9a9",
   "metadata": {},
   "source": [
    "<h3>Creating a dictionary of lists</h3>"
   ]
  },
  {
   "cell_type": "code",
   "execution_count": 19,
   "id": "ee7c10c9-9259-404c-8c5e-bbf1b9bb871e",
   "metadata": {},
   "outputs": [
    {
     "name": "stdout",
     "output_type": "stream",
     "text": [
      "{'Date': ['2024-01-19', '2024-01-18', '2024-01-17'], 'Close': [2029.3, 2021.6, 2006.5], 'Volume': [166078.0, 167013.0, 245194.0], 'Open': [2027.4, 2009.1, 2031.7], 'High': [2041.9, 2025.6, 2036.1], 'Low': [2022.2, 2007.7, 2004.6]}\n"
     ]
    }
   ],
   "source": [
    "data_dict = {\n",
    "    'Date': ['2024-01-19', '2024-01-18', '2024-01-17'],\n",
    "    'Close': [2029.3, 2021.6, 2006.5],\n",
    "    'Volume': [166078.0, 167013.0, 245194.0],\n",
    "    'Open': [2027.4, 2009.1, 2031.7],\n",
    "    'High': [2041.9, 2025.6, 2036.1],\n",
    "    'Low': [2022.2, 2007.7, 2004.6],\n",
    "}\n",
    "\n",
    "print(data_dict)\n",
    "\n"
   ]
  },
  {
   "cell_type": "markdown",
   "id": "8cd1bd43-2752-477f-8886-4de2b0de92f8",
   "metadata": {},
   "source": [
    "<h3>Creating a dataframe using the dictionary</h3>"
   ]
  },
  {
   "cell_type": "code",
   "execution_count": 25,
   "id": "fad594c9-2f7a-4400-ac52-470f18aa1c0c",
   "metadata": {},
   "outputs": [
    {
     "name": "stdout",
     "output_type": "stream",
     "text": [
      "Index(['Date', 'Close', 'Volume', 'Open', 'High', 'Low'], dtype='object')\n",
      "         Date   Close    Volume    Open    High     Low\n",
      "0  2024-01-19  2029.3  166078.0  2027.4  2041.9  2022.2\n",
      "1  2024-01-18  2021.6  167013.0  2009.1  2025.6  2007.7\n",
      "2  2024-01-17  2006.5  245194.0  2031.7  2036.1  2004.6\n",
      "\n",
      "Data after filtering based on 'CorrectColumnName' not being null:\n",
      "         Date   Close    Volume    Open    High     Low\n",
      "0  2024-01-19  2029.3  166078.0  2027.4  2041.9  2022.2\n",
      "1  2024-01-18  2021.6  167013.0  2009.1  2025.6  2007.7\n",
      "2  2024-01-17  2006.5  245194.0  2031.7  2036.1  2004.6\n"
     ]
    }
   ],
   "source": [
    "print(df.columns)\n",
    "print(df.head())\n",
    "not_null_df = df[df.notnull()]\n",
    "print(\"\\nData after filtering based on 'CorrectColumnName' not being null:\")\n",
    "print(not_null_df)\n"
   ]
  },
  {
   "cell_type": "markdown",
   "id": "7a9b4019-1cc6-41cc-87da-41118e1abf17",
   "metadata": {},
   "source": [
    "<h3>Using notnull() function</h3>"
   ]
  },
  {
   "cell_type": "code",
   "execution_count": 26,
   "id": "7e358d60-3850-456f-90ec-6d7ef78c91bd",
   "metadata": {},
   "outputs": [
    {
     "name": "stdout",
     "output_type": "stream",
     "text": [
      "Index(['Date', 'Close', 'Volume', 'Open', 'High', 'Low'], dtype='object')\n",
      "         Date   Close    Volume    Open    High     Low\n",
      "0  2024-01-19  2029.3  166078.0  2027.4  2041.9  2022.2\n",
      "1  2024-01-18  2021.6  167013.0  2009.1  2025.6  2007.7\n",
      "2  2024-01-17  2006.5  245194.0  2031.7  2036.1  2004.6\n",
      "\n",
      "Data after filtering based on 'Close' not being null:\n",
      "         Date   Close    Volume    Open    High     Low\n",
      "0  2024-01-19  2029.3  166078.0  2027.4  2041.9  2022.2\n",
      "1  2024-01-18  2021.6  167013.0  2009.1  2025.6  2007.7\n",
      "2  2024-01-17  2006.5  245194.0  2031.7  2036.1  2004.6\n"
     ]
    }
   ],
   "source": [
    "print(df.columns)\n",
    "print(df.head())\n",
    "not_null_df = df[df['Close'].notnull()]\n",
    "print(\"\\nData after filtering based on 'Close' not being null:\")\n",
    "print(not_null_df)\n"
   ]
  },
  {
   "cell_type": "markdown",
   "id": "c98f1a6f-cd18-4049-b408-d1a62a716d9c",
   "metadata": {},
   "source": [
    "<h3>Filling a missing value in a specific column</h3>"
   ]
  },
  {
   "cell_type": "code",
   "execution_count": 27,
   "id": "1a73391f-5ff7-4395-b7ed-e18eef5388c4",
   "metadata": {},
   "outputs": [
    {
     "name": "stdout",
     "output_type": "stream",
     "text": [
      "\n",
      "Data after filling missing value in 'Volume' column:\n",
      "         Date   Close    Volume    Open    High     Low\n",
      "0  2024-01-19  2029.3  166078.0  2027.4  2041.9  2022.2\n",
      "1  2024-01-18  2021.6  167013.0  2009.1  2025.6  2007.7\n",
      "2  2024-01-17  2006.5  245194.0  2031.7  2036.1  2004.6\n"
     ]
    }
   ],
   "source": [
    "df['Volume'].fillna(0, inplace=True)\n",
    "print(\"\\nData after filling missing value in 'Volume' column:\")\n",
    "print(df)\n",
    "df['Volume'].fillna(df['Volume'].mean(), inplace=True)"
   ]
  }
 ],
 "metadata": {
  "kernelspec": {
   "display_name": "Python 3 (ipykernel)",
   "language": "python",
   "name": "python3"
  },
  "language_info": {
   "codemirror_mode": {
    "name": "ipython",
    "version": 3
   },
   "file_extension": ".py",
   "mimetype": "text/x-python",
   "name": "python",
   "nbconvert_exporter": "python",
   "pygments_lexer": "ipython3",
   "version": "3.11.4"
  }
 },
 "nbformat": 4,
 "nbformat_minor": 5
}
