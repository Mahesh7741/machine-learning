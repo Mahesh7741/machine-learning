{
 "cells": [
  {
   "cell_type": "markdown",
   "id": "5d9d2ee7-f80f-4a4b-810a-56532a5fedf4",
   "metadata": {},
   "source": [
    "<h1>Assignment No 1</h1>"
   ]
  },
  {
   "cell_type": "markdown",
   "id": "636c1e3a-220c-4075-8cdf-fb00f26e5fb0",
   "metadata": {},
   "source": [
    "<h4>Aim : Extract the data from database using python and demonstrate various data pre-processing techniques for a given dataset.</h4>"
   ]
  },
  {
   "cell_type": "markdown",
   "id": "0acd22ad-b579-401b-9c06-5de2df7f4614",
   "metadata": {},
   "source": [
    "<h3>import and export data using Pandas library </h3>"
   ]
  },
  {
   "cell_type": "code",
   "execution_count": 24,
   "id": "3b6ed400-b96d-4cac-9608-c0250f1209df",
   "metadata": {},
   "outputs": [],
   "source": [
    "import numpy as np\n",
    "import pandas as pd"
   ]
  },
  {
   "cell_type": "markdown",
   "id": "47e328a7-4981-410f-8555-89d23a96f819",
   "metadata": {},
   "source": [
    "<H3>CSV file location</H3>"
   ]
  },
  {
   "cell_type": "code",
   "execution_count": 51,
   "id": "b5acba53-a7d2-45fe-b392-d0ab02aef893",
   "metadata": {},
   "outputs": [],
   "source": [
    "file_path = './CSV files/Data.csv'\n",
    "df = pd.read_csv(file_path)"
   ]
  },
  {
   "cell_type": "markdown",
   "id": "07d7a571-2cff-40e0-83ca-39add7aa672c",
   "metadata": {},
   "source": [
    "<H3>Display the original data</H3>"
   ]
  },
  {
   "cell_type": "code",
   "execution_count": 25,
   "id": "cc12b274-5b03-4011-8c9b-f408ced623fd",
   "metadata": {},
   "outputs": [
    {
     "name": "stdout",
     "output_type": "stream",
     "text": [
      "Original Data:\n",
      "   Country   Age   Salary Purchased\n",
      "0   France  44.0  72000.0        No\n",
      "1    Spain  27.0  48000.0       Yes\n",
      "2  Germany  30.0  54000.0        No\n",
      "3    Spain  38.0  61000.0        No\n",
      "4  Germany  40.0      NaN       Yes\n",
      "5   France  35.0  58000.0       Yes\n",
      "6    Spain   NaN  52000.0        No\n",
      "7   France  48.0  79000.0       Yes\n",
      "8  Germany  50.0  83000.0        No\n",
      "9   France  37.0  67000.0       Yes\n"
     ]
    }
   ],
   "source": [
    "print(\"Original Data:\")\n",
    "print(df)"
   ]
  },
  {
   "cell_type": "markdown",
   "id": "1a25ac90-dd11-4128-b641-e717f19d12f3",
   "metadata": {},
   "source": [
    "<h3>Check for missing values by using isnull function </h3>"
   ]
  },
  {
   "cell_type": "code",
   "execution_count": 50,
   "id": "cc70b0ee-b559-4960-951e-1eae3c712ffd",
   "metadata": {},
   "outputs": [
    {
     "name": "stdout",
     "output_type": "stream",
     "text": [
      "\n",
      "Check for missing values:\n",
      "   Country    Age  Salary  Purchased\n",
      "0    False  False   False      False\n",
      "1    False  False   False      False\n",
      "2    False  False   False      False\n",
      "3    False  False   False      False\n",
      "4    False  False   False      False\n",
      "5    False  False   False      False\n",
      "6    False   True   False      False\n",
      "7    False  False   False      False\n",
      "8    False  False   False      False\n",
      "9    False  False   False      False\n"
     ]
    }
   ],
   "source": [
    "print(\"\\nCheck for missing values:\")\n",
    "print(df.isnull())"
   ]
  },
  {
   "cell_type": "markdown",
   "id": "2fa57d63-19d8-4488-b912-c8d419a252f2",
   "metadata": {},
   "source": [
    "<h3>Check for non-missing values</h3>"
   ]
  },
  {
   "cell_type": "code",
   "execution_count": 27,
   "id": "81242a8a-188f-4cf6-adb5-da24d8cc38f7",
   "metadata": {},
   "outputs": [
    {
     "name": "stdout",
     "output_type": "stream",
     "text": [
      "\n",
      "Check for non-missing values:\n",
      "   Country    Age  Salary  Purchased\n",
      "0     True   True    True       True\n",
      "1     True   True    True       True\n",
      "2     True   True    True       True\n",
      "3     True   True    True       True\n",
      "4     True   True   False       True\n",
      "5     True   True    True       True\n",
      "6     True  False    True       True\n",
      "7     True   True    True       True\n",
      "8     True   True    True       True\n",
      "9     True   True    True       True\n"
     ]
    }
   ],
   "source": [
    "print(\"\\nCheck for non-missing values:\")\n",
    "print(df.notnull())"
   ]
  },
  {
   "cell_type": "markdown",
   "id": "03c4d14f-b34e-4036-84c4-fbc9381f980b",
   "metadata": {},
   "source": [
    "<h3> Drop rows with missing values</h3>"
   ]
  },
  {
   "cell_type": "code",
   "execution_count": 28,
   "id": "4b920633-dec8-4f37-9304-c8d8a9e6efff",
   "metadata": {},
   "outputs": [
    {
     "name": "stdout",
     "output_type": "stream",
     "text": [
      "\n",
      "Data after dropping rows with missing values:\n",
      "   Country   Age   Salary Purchased\n",
      "0   France  44.0  72000.0        No\n",
      "1    Spain  27.0  48000.0       Yes\n",
      "2  Germany  30.0  54000.0        No\n",
      "3    Spain  38.0  61000.0        No\n",
      "5   France  35.0  58000.0       Yes\n",
      "7   France  48.0  79000.0       Yes\n",
      "8  Germany  50.0  83000.0        No\n",
      "9   France  37.0  67000.0       Yes\n"
     ]
    }
   ],
   "source": [
    "df_dropna = df.dropna()\n",
    "print(\"\\nData after dropping rows with missing values:\")\n",
    "print(df_dropna)"
   ]
  },
  {
   "cell_type": "markdown",
   "id": "fc4ab785-c9c6-42ce-870f-92c24b5728fd",
   "metadata": {},
   "source": [
    "<h3> Fill missing values with a specified value\n",
    "</h3>"
   ]
  },
  {
   "cell_type": "code",
   "execution_count": 30,
   "id": "aae54e51-3dee-423d-89b8-0fa45c1d3314",
   "metadata": {},
   "outputs": [
    {
     "name": "stdout",
     "output_type": "stream",
     "text": [
      "\n",
      "Data after filling missing values with 0:\n",
      "   Country   Age   Salary Purchased\n",
      "0   France  44.0  72000.0        No\n",
      "1    Spain  27.0  48000.0       Yes\n",
      "2  Germany  30.0  54000.0        No\n",
      "3    Spain  38.0  61000.0        No\n",
      "4  Germany  40.0      0.0       Yes\n",
      "5   France  35.0  58000.0       Yes\n",
      "6    Spain   0.0  52000.0        No\n",
      "7   France  48.0  79000.0       Yes\n",
      "8  Germany  50.0  83000.0        No\n",
      "9   France  37.0  67000.0       Yes\n"
     ]
    }
   ],
   "source": [
    "df_fillna = df.fillna(0)\n",
    "print(\"\\nData after filling missing values with 0:\")\n",
    "print(df_fillna)"
   ]
  },
  {
   "cell_type": "markdown",
   "id": "a87c8316-efc6-48e0-9359-82d1331c4c2f",
   "metadata": {},
   "source": [
    "<h3>Replace missing values with the mean of the column</h3>"
   ]
  },
  {
   "cell_type": "code",
   "execution_count": 32,
   "id": "4bcdbf8a-6479-4a25-a546-6e0d26e8189b",
   "metadata": {},
   "outputs": [
    {
     "name": "stdout",
     "output_type": "stream",
     "text": [
      "\n",
      "Data after filling missing values with column mean:\n",
      "   Country        Age        Salary Purchased\n",
      "0   France  44.000000  72000.000000        No\n",
      "1    Spain  27.000000  48000.000000       Yes\n",
      "2  Germany  30.000000  54000.000000        No\n",
      "3    Spain  38.000000  61000.000000        No\n",
      "4  Germany  40.000000  63777.777778       Yes\n",
      "5   France  35.000000  58000.000000       Yes\n",
      "6    Spain  38.777778  52000.000000        No\n",
      "7   France  48.000000  79000.000000       Yes\n",
      "8  Germany  50.000000  83000.000000        No\n",
      "9   France  37.000000  67000.000000       Yes\n"
     ]
    }
   ],
   "source": [
    "df_fillna_mean = df.fillna(df.mean(numeric_only=True))\n",
    "print(\"\\nData after filling missing values with column mean:\")\n",
    "print(df_fillna_mean)\n"
   ]
  },
  {
   "cell_type": "markdown",
   "id": "be96e050-5c4f-496b-8830-ef276214ff54",
   "metadata": {},
   "source": [
    "<h3>Interpolate missing values</h3>"
   ]
  },
  {
   "cell_type": "code",
   "execution_count": 34,
   "id": "c9de6592-6c91-4e3d-80ea-cdd46b15e324",
   "metadata": {},
   "outputs": [
    {
     "name": "stdout",
     "output_type": "stream",
     "text": [
      "\n",
      "Data after interpolating missing values:\n",
      "   Country   Age   Salary Purchased\n",
      "0   France  44.0  72000.0        No\n",
      "1    Spain  27.0  48000.0       Yes\n",
      "2  Germany  30.0  54000.0        No\n",
      "3    Spain  38.0  61000.0        No\n",
      "4  Germany  40.0  59500.0       Yes\n",
      "5   France  35.0  58000.0       Yes\n",
      "6    Spain  41.5  52000.0        No\n",
      "7   France  48.0  79000.0       Yes\n",
      "8  Germany  50.0  83000.0        No\n",
      "9   France  37.0  67000.0       Yes\n"
     ]
    },
    {
     "name": "stderr",
     "output_type": "stream",
     "text": [
      "C:\\Users\\MAHESH\\AppData\\Local\\Temp\\ipykernel_17132\\2563756724.py:1: FutureWarning: DataFrame.interpolate with object dtype is deprecated and will raise in a future version. Call obj.infer_objects(copy=False) before interpolating instead.\n",
      "  df_interpolate = df.infer_objects(copy=False).interpolate()\n"
     ]
    }
   ],
   "source": [
    "df_interpolate = df.infer_objects(copy=False).interpolate()\n",
    "print(\"\\nData after interpolating missing values:\")\n",
    "print(df_interpolate)"
   ]
  },
  {
   "cell_type": "markdown",
   "id": "c581ea97-220b-4f57-ae21-b90d234df8fb",
   "metadata": {},
   "source": [
    "<h3>Creating bool series True for NaN values</h3>"
   ]
  },
  {
   "cell_type": "code",
   "execution_count": 45,
   "id": "914d653e-4ea9-445f-9e10-8455a1a215c0",
   "metadata": {},
   "outputs": [
    {
     "name": "stdout",
     "output_type": "stream",
     "text": [
      "\n",
      "Bool series True for NaN values:\n",
      "   Country    Age  Salary  Purchased\n",
      "0    False  False   False      False\n",
      "1    False  False   False      False\n",
      "2    False  False   False      False\n",
      "3    False  False   False      False\n",
      "4    False  False   False      False\n",
      "5    False  False   False      False\n",
      "6    False   True   False      False\n",
      "7    False  False   False      False\n",
      "8    False  False   False      False\n",
      "9    False  False   False      False\n"
     ]
    }
   ],
   "source": [
    "bool_series = pd.isnull(df)\n",
    "print(\"\\nBool series True for NaN values:\")\n",
    "print(bool_series)"
   ]
  },
  {
   "cell_type": "markdown",
   "id": "10e7834f-cce7-4e0c-9ff3-be2f0bb1b158",
   "metadata": {},
   "source": [
    "<h3>Filtering data based on conditions</h3>"
   ]
  },
  {
   "cell_type": "code",
   "execution_count": 36,
   "id": "d4e7827f-3285-4e08-80dd-3bd9b8696d2f",
   "metadata": {},
   "outputs": [
    {
     "name": "stdout",
     "output_type": "stream",
     "text": [
      "\n",
      "Filtered data where 'Purchased' is 'Yes':\n",
      "   Country   Age   Salary Purchased\n",
      "1    Spain  27.0  48000.0       Yes\n",
      "4  Germany  40.0      NaN       Yes\n",
      "5   France  35.0  58000.0       Yes\n",
      "7   France  48.0  79000.0       Yes\n",
      "9   France  37.0  67000.0       Yes\n"
     ]
    }
   ],
   "source": [
    "filtered_data = df[df['Purchased'] == 'Yes']\n",
    "print(\"\\nFiltered data where 'Purchased' is 'Yes':\")\n",
    "print(filtered_data)\n"
   ]
  },
  {
   "cell_type": "markdown",
   "id": "1efbd7df-7884-4897-9861-f00c67aed9a9",
   "metadata": {},
   "source": [
    "<h3>Creating a dictionary of lists</h3>"
   ]
  },
  {
   "cell_type": "code",
   "execution_count": 38,
   "id": "ee7c10c9-9259-404c-8c5e-bbf1b9bb871e",
   "metadata": {},
   "outputs": [],
   "source": [
    "data_dict = {\n",
    "    'Country': ['France', 'Spain', 'Germany'],\n",
    "    'Age': [25, 30, 35],\n",
    "    'Salary': [60000, 55000, 70000],\n",
    "    'Purchased': ['Yes', 'No', 'Yes']\n",
    "}\n"
   ]
  },
  {
   "cell_type": "markdown",
   "id": "8cd1bd43-2752-477f-8886-4de2b0de92f8",
   "metadata": {},
   "source": [
    "<h3>Creating a dataframe using the dictionary</h3>"
   ]
  },
  {
   "cell_type": "code",
   "execution_count": 41,
   "id": "fad594c9-2f7a-4400-ac52-470f18aa1c0c",
   "metadata": {},
   "outputs": [
    {
     "name": "stdout",
     "output_type": "stream",
     "text": [
      "\n",
      "New DataFrame created using a dictionary:\n",
      "   Country  Age  Salary Purchased\n",
      "0   France   25   60000       Yes\n",
      "1    Spain   30   55000        No\n",
      "2  Germany   35   70000       Yes\n"
     ]
    }
   ],
   "source": [
    "new_df = pd.DataFrame(data_dict)\n",
    "print(\"\\nNew DataFrame created using a dictionary:\")\n",
    "print(new_df)"
   ]
  },
  {
   "cell_type": "markdown",
   "id": "7a9b4019-1cc6-41cc-87da-41118e1abf17",
   "metadata": {},
   "source": [
    "<h3>Using notnull() function</h3>"
   ]
  },
  {
   "cell_type": "code",
   "execution_count": 42,
   "id": "7e358d60-3850-456f-90ec-6d7ef78c91bd",
   "metadata": {},
   "outputs": [
    {
     "name": "stdout",
     "output_type": "stream",
     "text": [
      "\n",
      "Data after filtering based on 'Age' not being null:\n",
      "   Country   Age   Salary Purchased\n",
      "0   France  44.0  72000.0        No\n",
      "1    Spain  27.0  48000.0       Yes\n",
      "2  Germany  30.0  54000.0        No\n",
      "3    Spain  38.0  61000.0        No\n",
      "4  Germany  40.0      NaN       Yes\n",
      "5   France  35.0  58000.0       Yes\n",
      "7   France  48.0  79000.0       Yes\n",
      "8  Germany  50.0  83000.0        No\n",
      "9   France  37.0  67000.0       Yes\n"
     ]
    }
   ],
   "source": [
    "not_null_df = df[df['Age'].notnull()]\n",
    "print(\"\\nData after filtering based on 'Age' not being null:\")\n",
    "print(not_null_df)\n"
   ]
  },
  {
   "cell_type": "markdown",
   "id": "c98f1a6f-cd18-4049-b408-d1a62a716d9c",
   "metadata": {},
   "source": [
    "<h3>Filling a missing value in a specific column</h3>"
   ]
  },
  {
   "cell_type": "code",
   "execution_count": 43,
   "id": "1a73391f-5ff7-4395-b7ed-e18eef5388c4",
   "metadata": {},
   "outputs": [
    {
     "name": "stdout",
     "output_type": "stream",
     "text": [
      "\n",
      "Data after filling missing value in 'Salary' column:\n",
      "   Country   Age   Salary Purchased\n",
      "0   France  44.0  72000.0        No\n",
      "1    Spain  27.0  48000.0       Yes\n",
      "2  Germany  30.0  54000.0        No\n",
      "3    Spain  38.0  61000.0        No\n",
      "4  Germany  40.0  60000.0       Yes\n",
      "5   France  35.0  58000.0       Yes\n",
      "6    Spain   NaN  52000.0        No\n",
      "7   France  48.0  79000.0       Yes\n",
      "8  Germany  50.0  83000.0        No\n",
      "9   France  37.0  67000.0       Yes\n"
     ]
    }
   ],
   "source": [
    "df['Salary'].fillna(60000, inplace=True)\n",
    "print(\"\\nData after filling missing value in 'Salary' column:\")\n",
    "print(df)"
   ]
  }
 ],
 "metadata": {
  "kernelspec": {
   "display_name": "Python 3 (ipykernel)",
   "language": "python",
   "name": "python3"
  },
  "language_info": {
   "codemirror_mode": {
    "name": "ipython",
    "version": 3
   },
   "file_extension": ".py",
   "mimetype": "text/x-python",
   "name": "python",
   "nbconvert_exporter": "python",
   "pygments_lexer": "ipython3",
   "version": "3.11.4"
  }
 },
 "nbformat": 4,
 "nbformat_minor": 5
}
